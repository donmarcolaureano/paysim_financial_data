{
 "cells": [
  {
   "cell_type": "code",
   "execution_count": 2,
   "id": "bacb801b-5369-4664-ab64-51e414b05cd8",
   "metadata": {},
   "outputs": [],
   "source": [
    "import pandas as pd "
   ]
  },
  {
   "cell_type": "code",
   "execution_count": 5,
   "id": "730981e2-b0c9-4fe1-96eb-2c334a8cb33e",
   "metadata": {},
   "outputs": [],
   "source": [
    "paysim_data = pd.read_csv('/Users/marcolaureano2/Documents/GitHub/paysim_financial_data/PS_20174392719_1491204439457_log.csv')"
   ]
  },
  {
   "cell_type": "code",
   "execution_count": null,
   "id": "26f41609-e1da-45b6-a7f1-1cecf99b3651",
   "metadata": {},
   "outputs": [],
   "source": []
  }
 ],
 "metadata": {
  "kernelspec": {
   "display_name": "Python [conda env:base] *",
   "language": "python",
   "name": "conda-base-py"
  },
  "language_info": {
   "codemirror_mode": {
    "name": "ipython",
    "version": 3
   },
   "file_extension": ".py",
   "mimetype": "text/x-python",
   "name": "python",
   "nbconvert_exporter": "python",
   "pygments_lexer": "ipython3",
   "version": "3.12.7"
  }
 },
 "nbformat": 4,
 "nbformat_minor": 5
}
